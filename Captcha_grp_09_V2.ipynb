{
 "cells": [
  {
   "cell_type": "code",
   "execution_count": null,
   "id": "4b15fc75-bc11-4fc0-96e9-9d17e18acb00",
   "metadata": {
    "tags": []
   },
   "outputs": [],
   "source": [
    "import tkinter as tk\n",
    "import random\n",
    "import string\n",
    "from tkinter import colorchooser\n",
    "\n",
    "class CaptchaGenerator(tk.Tk):\n",
    "    def __init__(self):\n",
    "        super().__init__()\n",
    "        self.title(\"CAPTCHA Generator\")\n",
    "        self.geometry(\"500x250\")\n",
    "\n",
    "        # Default values\n",
    "        self.captcha_text = self.generate_captcha()\n",
    "        self.font_styles = [\"Arial\", \"Times\", \"Courier\", \"Verdana\", \"Calibri\", \"Helvetica\", \"Georgia\", \"Trebuchet MS\", \"Palatino\", \"Garamond\", \"Century Gothic\", \"Tahoma\", \"Comic Sans MS\", \"Lucida Sans\", \"Franklin Gothic\", \"Impact\", \"Bookman\", \"Consolas\", \"Ubuntu\", \"Futura\"]\n",
    "        self.selected_font = tk.StringVar(self, value=self.font_styles[0])\n",
    "        self.font_size = tk.IntVar(self, value=20)\n",
    "        self.text_color = \"black\"\n",
    "        self.bg_color = \"lightgrey\"\n",
    "\n",
    "        # Widgets\n",
    "        self.captcha_label = tk.Label(self, text=self.captcha_text, font=(self.selected_font.get(), self.font_size.get()), fg=self.text_color, bg=self.bg_color)\n",
    "        self.regenerate_button = tk.Button(self, text=\"Regenerate CAPTCHA\", command=self.regenerate_captcha)\n",
    "        self.color_button = tk.Button(self, text=\"Select Color\", command=self.select_color)\n",
    "        self.font_option_menu = tk.OptionMenu(self, self.selected_font, *self.font_styles)\n",
    "        self.font_size_scale = tk.Scale(self, from_=10, to=40, orient=tk.HORIZONTAL, variable=self.font_size, label=\"Font Size\", command=self.change_font_size)\n",
    "        self.bgcolor_button = tk.Button(self, text=\"Select Background Color\", command=self.select_bgcolor)\n",
    "\n",
    "        # Layout\n",
    "        self.captcha_label.pack(pady=10)\n",
    "        self.regenerate_button.pack(pady=5)\n",
    "        self.color_button.pack(pady=5)\n",
    "        self.font_option_menu.pack(pady=5)\n",
    "        self.font_size_scale.pack(pady=5)\n",
    "        self.bgcolor_button.pack(pady=5)\n",
    "\n",
    "    def generate_captcha(self, length=6):\n",
    "        \"\"\"Generate a random CAPTCHA string.\"\"\"\n",
    "        characters = string.ascii_letters + string.digits\n",
    "        captcha_text = ''.join(random.choice(characters) for _ in range(length))\n",
    "        return captcha_text\n",
    "\n",
    "    def regenerate_captcha(self):\n",
    "        self.captcha_text = self.generate_captcha()\n",
    "        self.captcha_label.config(text=self.captcha_text)\n",
    "\n",
    "    def select_color(self):\n",
    "        color = colorchooser.askcolor()[1]  # Returns selected color in hex format\n",
    "        if color:\n",
    "            self.text_color = color\n",
    "            self.captcha_label.config(fg=self.text_color)\n",
    "\n",
    "    def change_font_size(self, event):\n",
    "        self.captcha_label.config(font=(self.selected_font.get(), self.font_size.get()))\n",
    "\n",
    "    def select_bgcolor(self):\n",
    "        bgcolor = colorchooser.askcolor()[1]  # Returns selected color in hex format\n",
    "        if bgcolor:\n",
    "            self.bg_color = bgcolor\n",
    "            self.captcha_label.config(bg=self.bg_color)\n",
    "\n",
    "if __name__ == \"__main__\":\n",
    "    app = CaptchaGenerator()\n",
    "    app.mainloop()"
   ]
  },
  {
   "cell_type": "code",
   "execution_count": null,
   "id": "2d92e1bf-667d-4a5c-b9e0-e0b88a3490ed",
   "metadata": {},
   "outputs": [],
   "source": []
  }
 ],
 "metadata": {
  "kernelspec": {
   "display_name": "Python 3 (ipykernel)",
   "language": "python",
   "name": "python3"
  },
  "language_info": {
   "codemirror_mode": {
    "name": "ipython",
    "version": 3
   },
   "file_extension": ".py",
   "mimetype": "text/x-python",
   "name": "python",
   "nbconvert_exporter": "python",
   "pygments_lexer": "ipython3",
   "version": "3.11.5"
  }
 },
 "nbformat": 4,
 "nbformat_minor": 5
}
